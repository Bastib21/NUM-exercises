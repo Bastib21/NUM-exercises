{
 "cells": [
  {
   "cell_type": "code",
   "execution_count": null,
   "metadata": {},
   "outputs": [],
   "source": [
    "## Exercise 1 - FizzBuzz\n",
    "\n",
    "Write a program that prints integer numbers from 1 to 25. For multiples of 3 print `\"Fizz\"` instead of the number, and for multiples of 5 print `\"Buzz\"`."
   ]
  },
  {
   "cell_type": "code",
   "execution_count": null,
   "metadata": {},
   "outputs": [],
   "source": [
    "for number in range(1,26):\n",
    "    if number %5 == 0 and number %3 == 0:\n",
    "        print(\"fizzbuzz\")\n",
    "\n",
    "    elif number %3 == 0:\n",
    "        print(\"fizz\")\n",
    "\n",
    "    elif number %5 == 0:\n",
    "        print(\"buzz\")\n",
    "\n",
    "    else:\n",
    "        print(number)\n",
    "\n",
    "#wrote %5 and %3 as the last condition at first, which ofc doesnt work cause the code checked for %5 and %3 already earlier"
   ]
  },
  {
   "cell_type": "code",
   "execution_count": null,
   "metadata": {},
   "outputs": [],
   "source": [
    "## Exercise 2 - Leap years\n",
    "\n",
    "**(a)** Write a function that, given a year, reports if it is a [leap year](https://en.wikipedia.org/wiki/Leap_year)."
   ]
  },
  {
   "cell_type": "code",
   "execution_count": null,
   "metadata": {},
   "outputs": [],
   "source": [
    "def check_leap_year(year):\n",
    "    if year % 400 == 0 or (year % 4 == 0 and year % 100 != 0):\n",
    "        return \"Your year is a leap year\"\n",
    "    else:\n",
    "        return \"Your year is not a leap year\"\n",
    "\n",
    "\n",
    "#do i need () in line 3 for the 'and' condition? not sure"
   ]
  },
  {
   "cell_type": "code",
   "execution_count": null,
   "metadata": {},
   "outputs": [],
   "source": [
    "**(b)** Test your function on some selected years that allow you to check if it provides the correct solution."
   ]
  },
  {
   "cell_type": "code",
   "execution_count": null,
   "metadata": {},
   "outputs": [],
   "source": [
    "print(check_leap_year(2000))  # leap year (divisible by 400)\n",
    "print(check_leap_year(1900))  # not a leap year (divisible by 100 but not 400)\n",
    "print(check_leap_year(2024))  # leap year (divisible by 4 but not 100)\n",
    "print(check_leap_year(2023))  # not a leap year\n",
    "\n",
    "# Testing a few cases"
   ]
  },
  {
   "cell_type": "code",
   "execution_count": null,
   "metadata": {},
   "outputs": [],
   "source": [
    "## Exercise 3 - Rigged dice\n",
    "\n",
    "**(a)** Create a rigged dice function that 25% of the time returns the number 6. The rest of the time it returns the integers 1,2,3,4,5 uniformly.\n",
    "**(b)** Test your function."
   ]
  },
  {
   "cell_type": "code",
   "execution_count": null,
   "metadata": {},
   "outputs": [],
   "source": [
    "import random\n",
    "\n",
    "def throwdice():\n",
    "    pool = [1, 2, 3, 4, 5] * 3 + [6] * 5\n",
    "    return random.choice(pool)\n",
    "\n",
    "counter = 0\n",
    "\n",
    "for i in range(100000):\n",
    "    result = throwdice()\n",
    "    if result == 6:\n",
    "        counter += 1\n",
    "\n",
    "print(f\"Number of 6's: {counter}\")\n",
    "\n",
    "#check results here \n",
    "if 24700 <= counter <= 25300:\n",
    "    print(\"The number of 6's is within the expected range.\")\n",
    "else:\n",
    "    print(\"The number of 6's is not within the expected range.\")"
   ]
  },
  {
   "cell_type": "code",
   "execution_count": null,
   "metadata": {},
   "outputs": [],
   "source": [
    "## Exercise 4 - Find the fake coin\n",
    "\n",
    "Write a function that returns the minimum amount of weighing it will take to measure `N` coins in every possible occurrence (including worst case scenario, i.e.: without relying on luck at all!). The number `N` is guaranteed to be a positive integer."
   ]
  },
  {
   "cell_type": "code",
   "execution_count": null,
   "metadata": {},
   "outputs": [],
   "source": [
    "\n",
    "def weighing(N):\n",
    "    return math.ceil(math.log(N, 3))\n",
    "\n",
    "print(weighing(8))\n",
    "\n",
    "#N<=3^w => w = log_3 N with N = 8"
   ]
  }
 ],
 "metadata": {
  "language_info": {
   "name": "python"
  }
 },
 "nbformat": 4,
 "nbformat_minor": 2
}
