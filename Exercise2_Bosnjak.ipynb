{
 "cells": [
  {
   "cell_type": "code",
   "execution_count": null,
   "id": "d5701b9b",
   "metadata": {},
   "outputs": [],
   "source": [
    "import numpy as np\n",
    "from matplotlib import pyplot as plt\n",
    "\n",
    "from scipy.io import readsav\n",
    "filepath = \"/Users/sebastianbosnjak/Programming3/galahamr.sav\" \n",
    "stars = readsav(filepath)  "
   ]
  },
  {
   "cell_type": "code",
   "execution_count": null,
   "id": "cbc0d3c8",
   "metadata": {},
   "outputs": [],
   "source": [
    "a) a scatter plot with the points colored by age "
   ]
  },
  {
   "cell_type": "code",
   "execution_count": null,
   "id": "bf5010be",
   "metadata": {},
   "outputs": [],
   "source": [
    "#pull out some attributes of the stars we want to look at and store them in arrays\n",
    "logg = stars['f']['logg']  #surface gravity (need it for 1)\n",
    "teff = stars['f']['teff']  #effective temperature (need it for 1)\n",
    "age = stars['f']['agemean'] #age -\"\"-\n",
    "\n",
    "plt.figure(figsize=(10, 6))\n",
    "\n",
    "scatter = plt.scatter(teff, logg, c=age, cmap='viridis', s=50, edgecolor='k')\n",
    "\n",
    "#add a colorbar to show age values\n",
    "cbar = plt.colorbar(scatter)\n",
    "cbar.set_label('Age (Gyr)', rotation=270, labelpad=15)\n",
    "\n",
    "#invert the x-axis\n",
    "plt.gca().invert_xaxis()\n",
    "\n",
    "#set labels\n",
    "plt.xlabel(r'Effective Temperature ($T_{eff}$)')\n",
    "plt.ylabel(r'Surface Gravity (log(g))')\n",
    "\n",
    "#set title\n",
    "plt.title('Hertzsprung-Russell Diagram (Colored by Age)')\n",
    "\n",
    "#show the plot\n",
    "plt.tight_layout()\n",
    "plt.show()"
   ]
  },
  {
   "cell_type": "code",
   "execution_count": null,
   "id": "d892f5af",
   "metadata": {},
   "outputs": [],
   "source": [
    "b) a 2D density plot using, e.g. the **kde** package along with the **pcolormesh** routine in matplotlib; or hist2d within matplotlib"
   ]
  },
  {
   "cell_type": "code",
   "execution_count": null,
   "id": "2bd997a8",
   "metadata": {},
   "outputs": [],
   "source": [
    "#get relevant star attributes\n",
    "logg = stars['f']['logg']        #surface gravity\n",
    "teff = stars['f']['teff']        #effective temp\n",
    "\n",
    "#create a figure\n",
    "plt.figure(figsize=(10, 6))\n",
    "\n",
    "#create a density plot\n",
    "#bins: number of bins for temperature and log(g)\n",
    "#cmap: colormap\n",
    "hist = plt.hist2d(teff, logg, bins=50, cmap='viridis')\n",
    "\n",
    "#ad colorbar to show density levels\n",
    "plt.colorbar(label='Density')\n",
    "\n",
    "#invert x axis\n",
    "plt.gca().invert_xaxis()\n",
    "\n",
    "#set labels\n",
    "plt.xlabel(r'Effective Temperature ($T_{eff}$)')\n",
    "plt.ylabel(r'Surface Gravity (log(g))')\n",
    "\n",
    "#set title\n",
    "plt.title('Hertzsprung-Russell Diagram (2D Histogram Density Plot)')\n",
    "\n",
    "#show the plot\n",
    "plt.tight_layout()\n",
    "plt.show()\n"
   ]
  },
  {
   "cell_type": "code",
   "execution_count": null,
   "id": "ec0dc2e6",
   "metadata": {},
   "outputs": [],
   "source": [
    "Use a built-in, or hand-written routine to compute the running average of $T_{eff}$ as a function of $log(g)$.  Overplot this average approximation to the distribution of stars.  It should roughly subdivide the sample into cooler and hotter stars at a given value of $log(g)$."
   ]
  },
  {
   "cell_type": "code",
   "execution_count": null,
   "id": "e997b00e",
   "metadata": {},
   "outputs": [],
   "source": [
    "#add those like in assignment 1\n",
    "logg = stars['f']['logg']\n",
    "teff = stars['f']['teff'] \n",
    "\n",
    "#sort data from smallest to highest\n",
    "sorted_parameter = np.argsort(logg) \n",
    "\n",
    "#order results from smallest to highest\n",
    "sorted_logg = logg[sorted_parameter]\n",
    "sorted_teff = teff[sorted_parameter]\n",
    "\n",
    "#choose the amount of data points \n",
    "window_size = 50 \n",
    "teff_average = uniform_filter1d(sorted_teff, size=window_size) #calculate running average of effective temperature\n",
    "\n",
    "#stars below running average are cold (<=) stars above are hot (>)\n",
    "hot_stars = sorted_teff > teff_average\n",
    "cold_stars = sorted_teff <= teff_average\n",
    "\n",
    "#create 2 scatter plots which get merged into one\n",
    "plt.scatter(sorted_logg[hot_stars], sorted_teff[hot_stars], color='indianred', label='hot stars')\n",
    "plt.scatter(sorted_logg[cold_stars], sorted_teff[cold_stars], color='cornflowerblue', label='cold stars')\n",
    "\n",
    "plt.plot(sorted_logg, teff_average, color='black', label='running average of t_eff')\n",
    "\n",
    "#labels, legend, title\n",
    "plt.xlabel('log(g) [m/s²]')\n",
    "plt.ylabel('t_eff [K]')\n",
    "plt.title('running average of the effective temperature as a function of the surface gravity')\n",
    "plt.legend()\n",
    "plt.grid(True)\n",
    "plt.show()"
   ]
  }
 ],
 "metadata": {
  "language_info": {
   "name": "python"
  }
 },
 "nbformat": 4,
 "nbformat_minor": 5
}
